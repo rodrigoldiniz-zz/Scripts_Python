{
  "nbformat": 4,
  "nbformat_minor": 0,
  "metadata": {
    "colab": {
      "name": "PIT_4p_A_I.ipynb",
      "provenance": [],
      "collapsed_sections": [],
      "authorship_tag": "ABX9TyPQ4cPAyTYN04AXKcSvTJ35",
      "include_colab_link": true
    },
    "kernelspec": {
      "name": "python3",
      "display_name": "Python 3"
    }
  },
  "cells": [
    {
      "cell_type": "markdown",
      "metadata": {
        "id": "view-in-github",
        "colab_type": "text"
      },
      "source": [
        "<a href=\"https://colab.research.google.com/github/rodrigoldiniz/Scripts_Python/blob/master/PIT_4p_A_I.ipynb\" target=\"_parent\"><img src=\"https://colab.research.google.com/assets/colab-badge.svg\" alt=\"Open In Colab\"/></a>"
      ]
    },
    {
      "cell_type": "markdown",
      "metadata": {
        "id": "GEet7e9Ecvfu"
      },
      "source": [
        "**Nome**: Rodrigo Lopes Diniz\n",
        "\n",
        "**RGM**: 22657126\n",
        "\n",
        "**Instituição**: CRUZEIRO DO SUL - EAD\n",
        "\n",
        "**Curso**: Superior de tecnologia em ciência de dados\n",
        "\n",
        "**Atividade I - PROJETO INTEGRADOR TRANSDISCIPLINAR EM CIÊNCIA DE DADOS II - 80h_Turma_01_082020**\n",
        "\n",
        "**Enunciado**:\n",
        "Passou o almoço na Operadora de Saúde e você recebe mais um job rápido para dar conta, vindo da turma de Análise de Carteira de Asseguradas. Trata-se, apenas, de uma amostra pequena do que tem na carteira. Como os dados são sigilosos, temos de seguir a LGPD. Eles não são identificados, possuem apenas a idade. Bom, esse job vai usar um pouco da boa e velha Estatística Descritiva. O arquivo que passaram para você está é: atividade_PIT_II_ciência_dados \n",
        "\n",
        "Nele, há um acervo de idades e pediram para você, usando R ou Python, responder o seguinte:\n",
        "\n",
        "• Criar um box-plot para que o pessoal possa ver a partir da idade a mostra de posição central, dispersão, simetria dos dados, comprimento de caudas e dados discrepantes;\n",
        "• Faça um texto curto, declarando o que você percebeu com relação ao box plot desenhado. \n",
        "\n",
        "O que deverá ser entregue: \n",
        "\n",
        "- O arquivo fonte que você trabalhou para gerar o gráfico.\n",
        "- Um arquivo PDF concento os gráficos e um texto curto, declarando o que você percebeu com relação ao gráfico gerado. \n",
        "\n",
        "Atenção: \n",
        "\n",
        "Não envie arquivos no formato ZIP, arquivos zipados ou corrompidos serão considerados tentativa insatisfatória.\n",
        "Você terá até duas tentativas para o envio desta atividade. \n",
        "Não haverá correções prévias, as dúvidas poderão ser tiradas durante o chat day da disciplina.  "
      ]
    },
    {
      "cell_type": "code",
      "metadata": {
        "id": "3LZaUMOYNHek"
      },
      "source": [
        "#Importar as Bibliotecas\n",
        "import pandas as pd\n",
        "import matplotlib.pyplot as plt"
      ],
      "execution_count": 1,
      "outputs": []
    },
    {
      "cell_type": "code",
      "metadata": {
        "id": "9BTfEnaWOOzt"
      },
      "source": [
        "#Ler o arquivo fornecido para gerar o DataFrame\n",
        "df = pd.read_csv(\"/content/atividade_PIT_II_ciência_dados(1).csv\", encoding = \"ISO-8859-1\", sep=\";\")"
      ],
      "execution_count": 20,
      "outputs": []
    },
    {
      "cell_type": "code",
      "metadata": {
        "colab": {
          "base_uri": "https://localhost:8080/",
          "height": 359
        },
        "id": "BB8vjTHvPnbw",
        "outputId": "12568762-a021-493c-8e4c-f7b2c4f9a38a"
      },
      "source": [
        "#Verificação dos dados do DataFrame\n",
        "df.head(10)"
      ],
      "execution_count": 7,
      "outputs": [
        {
          "output_type": "execute_result",
          "data": {
            "text/html": [
              "<div>\n",
              "<style scoped>\n",
              "    .dataframe tbody tr th:only-of-type {\n",
              "        vertical-align: middle;\n",
              "    }\n",
              "\n",
              "    .dataframe tbody tr th {\n",
              "        vertical-align: top;\n",
              "    }\n",
              "\n",
              "    .dataframe thead th {\n",
              "        text-align: right;\n",
              "    }\n",
              "</style>\n",
              "<table border=\"1\" class=\"dataframe\">\n",
              "  <thead>\n",
              "    <tr style=\"text-align: right;\">\n",
              "      <th></th>\n",
              "      <th>ID</th>\n",
              "      <th>Idade do Segurado</th>\n",
              "      <th>Código do Procedimento Principal</th>\n",
              "      <th>Valor Total Liberado</th>\n",
              "    </tr>\n",
              "  </thead>\n",
              "  <tbody>\n",
              "    <tr>\n",
              "      <th>0</th>\n",
              "      <td>1</td>\n",
              "      <td>38</td>\n",
              "      <td>31101569.0</td>\n",
              "      <td>52.950,00</td>\n",
              "    </tr>\n",
              "    <tr>\n",
              "      <th>1</th>\n",
              "      <td>2</td>\n",
              "      <td>44</td>\n",
              "      <td>31401155.0</td>\n",
              "      <td>66.759,96</td>\n",
              "    </tr>\n",
              "    <tr>\n",
              "      <th>2</th>\n",
              "      <td>3</td>\n",
              "      <td>60</td>\n",
              "      <td>10102019.0</td>\n",
              "      <td>30.240,78</td>\n",
              "    </tr>\n",
              "    <tr>\n",
              "      <th>3</th>\n",
              "      <td>4</td>\n",
              "      <td>37</td>\n",
              "      <td>31307116.0</td>\n",
              "      <td>58.959,17</td>\n",
              "    </tr>\n",
              "    <tr>\n",
              "      <th>4</th>\n",
              "      <td>5</td>\n",
              "      <td>66</td>\n",
              "      <td>20010.0</td>\n",
              "      <td>87.395,85</td>\n",
              "    </tr>\n",
              "    <tr>\n",
              "      <th>5</th>\n",
              "      <td>6</td>\n",
              "      <td>67</td>\n",
              "      <td>31003281.0</td>\n",
              "      <td>71.792,62</td>\n",
              "    </tr>\n",
              "    <tr>\n",
              "      <th>6</th>\n",
              "      <td>7</td>\n",
              "      <td>48</td>\n",
              "      <td>31003133.0</td>\n",
              "      <td>55.153,70</td>\n",
              "    </tr>\n",
              "    <tr>\n",
              "      <th>7</th>\n",
              "      <td>8</td>\n",
              "      <td>76</td>\n",
              "      <td>31102050.0</td>\n",
              "      <td>63.093,57</td>\n",
              "    </tr>\n",
              "    <tr>\n",
              "      <th>8</th>\n",
              "      <td>9</td>\n",
              "      <td>57</td>\n",
              "      <td>20010.0</td>\n",
              "      <td>50.770,45</td>\n",
              "    </tr>\n",
              "    <tr>\n",
              "      <th>9</th>\n",
              "      <td>10</td>\n",
              "      <td>74</td>\n",
              "      <td>31003559.0</td>\n",
              "      <td>47.665,86</td>\n",
              "    </tr>\n",
              "  </tbody>\n",
              "</table>\n",
              "</div>"
            ],
            "text/plain": [
              "   ID  ...   Valor Total Liberado \n",
              "0   1  ...               52.950,00\n",
              "1   2  ...               66.759,96\n",
              "2   3  ...               30.240,78\n",
              "3   4  ...               58.959,17\n",
              "4   5  ...               87.395,85\n",
              "5   6  ...               71.792,62\n",
              "6   7  ...               55.153,70\n",
              "7   8  ...               63.093,57\n",
              "8   9  ...               50.770,45\n",
              "9  10  ...               47.665,86\n",
              "\n",
              "[10 rows x 4 columns]"
            ]
          },
          "metadata": {
            "tags": []
          },
          "execution_count": 7
        }
      ]
    },
    {
      "cell_type": "code",
      "metadata": {
        "colab": {
          "base_uri": "https://localhost:8080/"
        },
        "id": "6RU7W1p5UeQL",
        "outputId": "b0ac6cc8-0126-4290-e5f2-cc4661833fb8"
      },
      "source": [
        "#Criando um DataFrame segregado sobre a Idade dos Segurados para o Gráfico de Boxplot\n",
        "idade = df[\"Idade do Segurado\"]"
      ],
      "execution_count": 19,
      "outputs": [
        {
          "output_type": "execute_result",
          "data": {
            "text/plain": [
              "0    38\n",
              "1    44\n",
              "2    60\n",
              "3    37\n",
              "4    66\n",
              "5    67\n",
              "6    48\n",
              "7    76\n",
              "8    57\n",
              "9    74\n",
              "Name: Idade do Segurado, dtype: int64"
            ]
          },
          "metadata": {
            "tags": []
          },
          "execution_count": 19
        }
      ]
    },
    {
      "cell_type": "code",
      "metadata": {
        "colab": {
          "base_uri": "https://localhost:8080/"
        },
        "id": "0Mh3fvPcbOqf",
        "outputId": "aa24edc4-2c3d-4b1b-db56-8129057fd095"
      },
      "source": [
        "#Verificação dos dados do DataFrame de Idade\n",
        "idade.head(10)"
      ],
      "execution_count": 21,
      "outputs": [
        {
          "output_type": "execute_result",
          "data": {
            "text/plain": [
              "0    38\n",
              "1    44\n",
              "2    60\n",
              "3    37\n",
              "4    66\n",
              "5    67\n",
              "6    48\n",
              "7    76\n",
              "8    57\n",
              "9    74\n",
              "Name: Idade do Segurado, dtype: int64"
            ]
          },
          "metadata": {
            "tags": []
          },
          "execution_count": 21
        }
      ]
    },
    {
      "cell_type": "code",
      "metadata": {
        "colab": {
          "base_uri": "https://localhost:8080/"
        },
        "id": "n2sYvk_UVMRG",
        "outputId": "13e50120-36c4-45bb-db2e-1d1af9d1e776"
      },
      "source": [
        "#Verificnado os dados que serão utilizados no Gáfico de Boxplot\n",
        "idade.describe()"
      ],
      "execution_count": 10,
      "outputs": [
        {
          "output_type": "execute_result",
          "data": {
            "text/plain": [
              "count    27846.000000\n",
              "mean        53.028083\n",
              "std         23.157481\n",
              "min          0.000000\n",
              "25%         37.000000\n",
              "50%         55.000000\n",
              "75%         71.000000\n",
              "max        107.000000\n",
              "Name: Idade do Segurado, dtype: float64"
            ]
          },
          "metadata": {
            "tags": []
          },
          "execution_count": 10
        }
      ]
    },
    {
      "cell_type": "code",
      "metadata": {
        "id": "07EjOD2iVjnA"
      },
      "source": [
        "#Criando um DataFrame segregado para a legenda do Gráfico de Boxplot\n",
        "idade_descibe = idade.describe()"
      ],
      "execution_count": 11,
      "outputs": []
    },
    {
      "cell_type": "code",
      "metadata": {
        "id": "MxcE6_D1Vsq4"
      },
      "source": [
        "#Criando os labels dos quartis e da mediana\n",
        "q1 = idade_descibe['25%']\n",
        "mediana = idade_descibe['50%']\n",
        "q2 = idade_descibe['75%']"
      ],
      "execution_count": 12,
      "outputs": []
    },
    {
      "cell_type": "code",
      "metadata": {
        "id": "PvHAGCqCV5Yu"
      },
      "source": [
        "#Formatando os labels dos quartis e da mediana\n",
        "s_q1 = \"{0:.2f}\".format(q1)\n",
        "s_mediana = \"{0:.2f}\".format(mediana)\n",
        "s_q2 = \"{0:.2f}\".format(q2)"
      ],
      "execution_count": 13,
      "outputs": []
    },
    {
      "cell_type": "code",
      "metadata": {
        "id": "IdDKOjV0V9Bn"
      },
      "source": [
        "#Configurando a fonte do gráfico de Boxplot\n",
        "font_1 = {'family': 'serif', 'color': 'darkred', 'size':'14'}"
      ],
      "execution_count": 14,
      "outputs": []
    },
    {
      "cell_type": "code",
      "metadata": {
        "colab": {
          "base_uri": "https://localhost:8080/",
          "height": 444
        },
        "id": "IZg-hAwmWASn",
        "outputId": "869349e9-937f-45a5-85a7-514bb46c9ec9"
      },
      "source": [
        "plt.figure(figsize=(6, 7))\n",
        "plt.boxplot(idade)\n",
        "plt.title('Boxplot das Idades dos Segurados')\n",
        "plt.ylabel('Idade do Segurado')\n",
        "plt.text(1, q1, s_q1, fontdict=font_1)\n",
        "plt.text(1, mediana, s_mediana, fontdict=font_1)\n",
        "plt.text(1, q2, s_q2, fontdict=font_1)\n",
        "#plt.savefig('Idade-boxplot.png')\n",
        "plt.show() \n",
        "plt.close()"
      ],
      "execution_count": 23,
      "outputs": [
        {
          "output_type": "display_data",
          "data": {
            "image/png": "[encoded data removed]",
            "text/plain": [
              "<Figure size 432x504 with 1 Axes>"
            ]
          },
          "metadata": {
            "tags": [],
            "needs_background": "light"
          }
        }
      ]
    }
  ]
}