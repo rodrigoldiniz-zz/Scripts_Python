{
  "nbformat": 4,
  "nbformat_minor": 0,
  "metadata": {
    "colab": {
      "name": "PIT_II_A_II.ipynb",
      "provenance": [],
      "collapsed_sections": [],
      "authorship_tag": "ABX9TyOPXkyprOcC81WwtPv5aFxr",
      "include_colab_link": true
    },
    "kernelspec": {
      "name": "python3",
      "display_name": "Python 3"
    }
  },
  "cells": [
    {
      "cell_type": "markdown",
      "metadata": {
        "id": "view-in-github",
        "colab_type": "text"
      },
      "source": [
        "<a href=\"https://colab.research.google.com/github/rodrigoldiniz/Scripts_Python/blob/master/PIT_II_A_II.ipynb\" target=\"_parent\"><img src=\"https://colab.research.google.com/assets/colab-badge.svg\" alt=\"Open In Colab\"/></a>"
      ]
    },
    {
      "cell_type": "markdown",
      "metadata": {
        "id": "BOt-BKN76hUV"
      },
      "source": [
        "**Nome**: Rodrigo Lopes Diniz\n",
        "\n",
        "**RGM**: 22657126\n",
        "\n",
        "**Instituição**: CRUZEIRO DO SUL - EAD\n",
        "\n",
        "**Curso**: Superior de tecnologia em ciência de dados\n",
        "\n",
        "**Atividade II - PROJETO INTEGRADOR TRANSDISCIPLINAR EM CIÊNCIA DE DADOS II - 80h_Turma_01_082020**\n",
        "\n",
        "**Enunciado**:\n",
        "No fim do dia, chegou um pedido do pessoal de contas médicas, a partir de um arquivo contendo alguns valores em reais de uma amostra de um faturamento de um hospital. O arquivo é: atividade_PIT_II_ciência_dados (mesmo arquivo da atividade anterior)\n",
        "\n",
        "Pediram o seguinte a você:\n",
        "• Carregue o dado;\n",
        "• Gere um gráfico Q-Q para conferir a distribuição de frequência. A ideia aqui é ver até quando a reta gerada se ajusta aos pontos.\n",
        "\n",
        "\n",
        "O que deverá ser entregue: \n",
        "\n",
        "- O arquivo fonte (R, ou Python) que você trabalhou para gerar o gráfico.\n",
        "- Um arquivo PDF concento os gráficos e um texto curto, declarando o que você percebeu com relação ao gráfico gerado. \n",
        "\n",
        "Atenção:\n",
        "\n",
        "Não envie arquivos no formato ZIP, arquivos zipados ou corrompidos serão considerados tentativa insatisfatória.\n",
        "Você terá até duas tentativas para o envio desta atividade. \n",
        "Não haverá correções prévias, as dúvidas poderão ser tiradas durante o chat day da disciplina."
      ]
    },
    {
      "cell_type": "code",
      "metadata": {
        "id": "yw1HRx_CqHk9"
      },
      "source": [
        "#Importar as Bibliotecas\n",
        "import pandas as pd\n",
        "import scipy.stats as stats\n",
        "import statsmodels.api as sm\n",
        "import matplotlib.pyplot as plt\n",
        "import seaborn as sns"
      ],
      "execution_count": 91,
      "outputs": []
    },
    {
      "cell_type": "code",
      "metadata": {
        "id": "-at1i9N9qUcg"
      },
      "source": [
        "#Ler o arquivo fornecido para gerar o DataFrame\n",
        "df = pd.read_excel(\"/content/atividade_PIT_II_ciência_dados(1).xlsx\", convert_float=True)"
      ],
      "execution_count": 79,
      "outputs": []
    },
    {
      "cell_type": "code",
      "metadata": {
        "colab": {
          "base_uri": "https://localhost:8080/"
        },
        "id": "UKBYT0p3qsDy",
        "outputId": "355f72da-7031-4f7c-812a-bb803be06796"
      },
      "source": [
        "#Conversção da coluna valor para float e Verificação dos dados do DataFrame\n",
        "df[' Valor Total Liberado '] = pd.to_numeric(df[' Valor Total Liberado '], errors='coerce')\n",
        "df.info()"
      ],
      "execution_count": 108,
      "outputs": [
        {
          "output_type": "stream",
          "text": [
            "<class 'pandas.core.frame.DataFrame'>\n",
            "Int64Index: 27749 entries, 0 to 27845\n",
            "Data columns (total 4 columns):\n",
            " #   Column                            Non-Null Count  Dtype  \n",
            "---  ------                            --------------  -----  \n",
            " 0   ID                                27749 non-null  int64  \n",
            " 1   Idade do Segurado                 27749 non-null  int64  \n",
            " 2   Código do Procedimento Principal  27749 non-null  float64\n",
            " 3    Valor Total Liberado             27749 non-null  float64\n",
            "dtypes: float64(2), int64(2)\n",
            "memory usage: 1.1 MB\n"
          ],
          "name": "stdout"
        }
      ]
    },
    {
      "cell_type": "code",
      "metadata": {
        "id": "SsDhY9k_BEXF"
      },
      "source": [
        "df.replace([np.inf, -np.inf], np.nan)\n",
        "df.dropna(inplace=True)"
      ],
      "execution_count": null,
      "outputs": []
    },
    {
      "cell_type": "code",
      "metadata": {
        "colab": {
          "base_uri": "https://localhost:8080/",
          "height": 297
        },
        "id": "jWHDWnv3qwKF",
        "outputId": "9799c932-f022-4eb0-f6e3-1aa5799d6d04"
      },
      "source": [
        "#Verificnado os dados do DataFrame\n",
        "df.describe()"
      ],
      "execution_count": 109,
      "outputs": [
        {
          "output_type": "execute_result",
          "data": {
            "text/html": [
              "<div>\n",
              "<style scoped>\n",
              "    .dataframe tbody tr th:only-of-type {\n",
              "        vertical-align: middle;\n",
              "    }\n",
              "\n",
              "    .dataframe tbody tr th {\n",
              "        vertical-align: top;\n",
              "    }\n",
              "\n",
              "    .dataframe thead th {\n",
              "        text-align: right;\n",
              "    }\n",
              "</style>\n",
              "<table border=\"1\" class=\"dataframe\">\n",
              "  <thead>\n",
              "    <tr style=\"text-align: right;\">\n",
              "      <th></th>\n",
              "      <th>ID</th>\n",
              "      <th>Idade do Segurado</th>\n",
              "      <th>Código do Procedimento Principal</th>\n",
              "      <th>Valor Total Liberado</th>\n",
              "    </tr>\n",
              "  </thead>\n",
              "  <tbody>\n",
              "    <tr>\n",
              "      <th>count</th>\n",
              "      <td>27749.000000</td>\n",
              "      <td>27749.000000</td>\n",
              "      <td>2.774900e+04</td>\n",
              "      <td>27749.000000</td>\n",
              "    </tr>\n",
              "    <tr>\n",
              "      <th>mean</th>\n",
              "      <td>13951.719666</td>\n",
              "      <td>53.041731</td>\n",
              "      <td>1.726207e+07</td>\n",
              "      <td>86508.762043</td>\n",
              "    </tr>\n",
              "    <tr>\n",
              "      <th>std</th>\n",
              "      <td>8026.351376</td>\n",
              "      <td>23.161500</td>\n",
              "      <td>1.336009e+07</td>\n",
              "      <td>49025.368885</td>\n",
              "    </tr>\n",
              "    <tr>\n",
              "      <th>min</th>\n",
              "      <td>1.000000</td>\n",
              "      <td>0.000000</td>\n",
              "      <td>2.001000e+04</td>\n",
              "      <td>490.910000</td>\n",
              "    </tr>\n",
              "    <tr>\n",
              "      <th>25%</th>\n",
              "      <td>7024.000000</td>\n",
              "      <td>37.000000</td>\n",
              "      <td>1.010202e+07</td>\n",
              "      <td>56614.900000</td>\n",
              "    </tr>\n",
              "    <tr>\n",
              "      <th>50%</th>\n",
              "      <td>13961.000000</td>\n",
              "      <td>55.000000</td>\n",
              "      <td>1.010402e+07</td>\n",
              "      <td>71866.080000</td>\n",
              "    </tr>\n",
              "    <tr>\n",
              "      <th>75%</th>\n",
              "      <td>20898.000000</td>\n",
              "      <td>71.000000</td>\n",
              "      <td>3.080413e+07</td>\n",
              "      <td>98470.760000</td>\n",
              "    </tr>\n",
              "    <tr>\n",
              "      <th>max</th>\n",
              "      <td>27846.000000</td>\n",
              "      <td>107.000000</td>\n",
              "      <td>8.452060e+07</td>\n",
              "      <td>980639.430000</td>\n",
              "    </tr>\n",
              "  </tbody>\n",
              "</table>\n",
              "</div>"
            ],
            "text/plain": [
              "                 ID  ...   Valor Total Liberado \n",
              "count  27749.000000  ...            27749.000000\n",
              "mean   13951.719666  ...            86508.762043\n",
              "std     8026.351376  ...            49025.368885\n",
              "min        1.000000  ...              490.910000\n",
              "25%     7024.000000  ...            56614.900000\n",
              "50%    13961.000000  ...            71866.080000\n",
              "75%    20898.000000  ...            98470.760000\n",
              "max    27846.000000  ...           980639.430000\n",
              "\n",
              "[8 rows x 4 columns]"
            ]
          },
          "metadata": {
            "tags": []
          },
          "execution_count": 109
        }
      ]
    },
    {
      "cell_type": "code",
      "metadata": {
        "colab": {
          "base_uri": "https://localhost:8080/",
          "height": 173
        },
        "id": "KDjmKpP8ynoO",
        "outputId": "968591d3-810b-4342-8e3d-a623e4bf0061"
      },
      "source": [
        "#Verificando a correlação das variáveis\n",
        "df.corr()"
      ],
      "execution_count": 84,
      "outputs": [
        {
          "output_type": "execute_result",
          "data": {
            "text/html": [
              "<div>\n",
              "<style scoped>\n",
              "    .dataframe tbody tr th:only-of-type {\n",
              "        vertical-align: middle;\n",
              "    }\n",
              "\n",
              "    .dataframe tbody tr th {\n",
              "        vertical-align: top;\n",
              "    }\n",
              "\n",
              "    .dataframe thead th {\n",
              "        text-align: right;\n",
              "    }\n",
              "</style>\n",
              "<table border=\"1\" class=\"dataframe\">\n",
              "  <thead>\n",
              "    <tr style=\"text-align: right;\">\n",
              "      <th></th>\n",
              "      <th>ID</th>\n",
              "      <th>Idade do Segurado</th>\n",
              "      <th>Código do Procedimento Principal</th>\n",
              "      <th>Valor Total Liberado</th>\n",
              "    </tr>\n",
              "  </thead>\n",
              "  <tbody>\n",
              "    <tr>\n",
              "      <th>ID</th>\n",
              "      <td>1.000000</td>\n",
              "      <td>0.020393</td>\n",
              "      <td>-0.014865</td>\n",
              "      <td>0.007298</td>\n",
              "    </tr>\n",
              "    <tr>\n",
              "      <th>Idade do Segurado</th>\n",
              "      <td>0.020393</td>\n",
              "      <td>1.000000</td>\n",
              "      <td>-0.140884</td>\n",
              "      <td>-0.072494</td>\n",
              "    </tr>\n",
              "    <tr>\n",
              "      <th>Código do Procedimento Principal</th>\n",
              "      <td>-0.014865</td>\n",
              "      <td>-0.140884</td>\n",
              "      <td>1.000000</td>\n",
              "      <td>0.081143</td>\n",
              "    </tr>\n",
              "    <tr>\n",
              "      <th>Valor Total Liberado</th>\n",
              "      <td>0.007298</td>\n",
              "      <td>-0.072494</td>\n",
              "      <td>0.081143</td>\n",
              "      <td>1.000000</td>\n",
              "    </tr>\n",
              "  </tbody>\n",
              "</table>\n",
              "</div>"
            ],
            "text/plain": [
              "                                        ID  ...   Valor Total Liberado \n",
              "ID                                1.000000  ...                0.007298\n",
              "Idade do Segurado                 0.020393  ...               -0.072494\n",
              "Código do Procedimento Principal -0.014865  ...                0.081143\n",
              " Valor Total Liberado             0.007298  ...                1.000000\n",
              "\n",
              "[4 rows x 4 columns]"
            ]
          },
          "metadata": {
            "tags": []
          },
          "execution_count": 84
        }
      ]
    },
    {
      "cell_type": "code",
      "metadata": {
        "id": "XC6sp34VWlRe",
        "colab": {
          "base_uri": "https://localhost:8080/",
          "height": 625
        },
        "outputId": "623c263f-c564-4ddc-e093-8f25e97b0119"
      },
      "source": [
        "#Gerando matriz de correlação\n",
        "plt.figure(figsize=(20,10))\n",
        "ax = plt.axes()\n",
        "sns.heatmap(df.corr(), annot=True, cmap=\"viridis\")\n",
        "ax.set_title(\"Matriz de Correlação\")"
      ],
      "execution_count": 51,
      "outputs": [
        {
          "output_type": "execute_result",
          "data": {
            "text/plain": [
              "Text(0.5, 1.0, 'Matriz de Correlação')"
            ]
          },
          "metadata": {
            "tags": []
          },
          "execution_count": 51
        },
        {
          "output_type": "display_data",
          "data": {
            "image/png": "[encoded data removed]",
            "text/plain": [
              "<Figure size 1440x720 with 2 Axes>"
            ]
          },
          "metadata": {
            "tags": [],
            "needs_background": "light"
          }
        }
      ]
    },
    {
      "cell_type": "code",
      "metadata": {
        "colab": {
          "base_uri": "https://localhost:8080/",
          "height": 638
        },
        "id": "5S8rydNgy_uI",
        "outputId": "706a1abf-5e4b-44f2-af7d-5ab4f0a0e33c"
      },
      "source": [
        "#Gerando o gráfico de QQ\n",
        "fig = plt.figure(figsize=(15,10))\n",
        "ax = fig.add_subplot()\n",
        "res = stats.probplot(df[\" Valor Total Liberado \"], dist=\"norm\",plot=ax)\n",
        "ax.set_title(\"Q-Q para conferir a distribuição de Frequência\")"
      ],
      "execution_count": 105,
      "outputs": [
        {
          "output_type": "execute_result",
          "data": {
            "text/plain": [
              "Text(0.5, 1.0, 'Q-Q para conferir a distribuição de Frequência')"
            ]
          },
          "metadata": {
            "tags": []
          },
          "execution_count": 105
        },
        {
          "output_type": "display_data",
          "data": {
            "image/png": "[encoded data removed]",
            "text/plain": [
              "<Figure size 1080x720 with 1 Axes>"
            ]
          },
          "metadata": {
            "tags": [],
            "needs_background": "light"
          }
        }
      ]
    },
    {
      "cell_type": "code",
      "metadata": {
        "colab": {
          "base_uri": "https://localhost:8080/",
          "height": 279
        },
        "id": "m1APIoMe9SNV",
        "outputId": "2813c5bf-57f8-4027-f6f5-108b4a6cdbd1"
      },
      "source": [
        "#Utilizando a biblioteca statsmodels.api\n",
        "pp = sm.ProbPlot(df[\" Valor Total Liberado \"], fit=True)\n",
        "qq = pp.qqplot(marker='.', markerfacecolor='k', markeredgecolor='k', alpha=0.3)\n",
        "sm.qqline(qq.axes[0], line='45', fmt='k--')\n",
        "\n",
        "plt.show()"
      ],
      "execution_count": 106,
      "outputs": [
        {
          "output_type": "display_data",
          "data": {
            "image/png": "[encoded data removed]",
            "text/plain": [
              "<Figure size 432x288 with 1 Axes>"
            ]
          },
          "metadata": {
            "tags": [],
            "needs_background": "light"
          }
        }
      ]
    },
    {
      "cell_type": "markdown",
      "metadata": {
        "id": "0w0E9VNw7BmM"
      },
      "source": [
        "Podemos verificar no gráfico acima de QQ, que temos uma amostragem que não segue a normal teórica, Constatando-se assim que não é uma distribuição normal. Analisando os dados temos:\n",
        "\n",
        "*   Limite inferior: 490,9\n",
        "*   Primeiro Quartil: 56614,9\n",
        "*   Mediana: 71866,1\n",
        "*   Média: 86508,7\n",
        "*   Terceiro Quartil: 98470,7\n",
        "*   Limite superior: 980639,4\n",
        "\n",
        "\n"
      ]
    }
  ]
}